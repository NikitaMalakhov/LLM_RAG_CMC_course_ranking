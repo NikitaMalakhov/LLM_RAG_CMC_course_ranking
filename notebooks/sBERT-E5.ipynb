{
 "cells": [
  {
   "cell_type": "code",
   "execution_count": 7,
   "id": "c0265a92-457e-47c1-aef3-a41b48fd5dda",
   "metadata": {},
   "outputs": [
    {
     "name": "stdout",
     "output_type": "stream",
     "text": [
      "Note: you may need to restart the kernel to use updated packages.\n"
     ]
    }
   ],
   "source": [
    "%pip install -q transformers datasets nltk spacy seaborn matplotlib Wikipedia-API"
   ]
  },
  {
   "cell_type": "code",
   "execution_count": 4,
   "id": "2c662612-0337-4b2c-a506-0fb5b2a28e18",
   "metadata": {},
   "outputs": [],
   "source": [
    "from transformers import AutoModel, AutoTokenizer\n",
    "import torch"
   ]
  },
  {
   "cell_type": "code",
   "execution_count": 5,
   "id": "99f0020c-aa3e-4d1e-a6a5-36eacfae749d",
   "metadata": {},
   "outputs": [
    {
     "data": {
      "text/plain": [
       "device(type='cuda')"
      ]
     },
     "execution_count": 5,
     "metadata": {},
     "output_type": "execute_result"
    }
   ],
   "source": [
    "device = torch.device('cuda') if torch.cuda.is_available() else torch.device('cpu')\n",
    "device"
   ]
  },
  {
   "cell_type": "code",
   "execution_count": 6,
   "id": "5c2fffb2-eb40-4069-9d36-8a15599945d1",
   "metadata": {},
   "outputs": [],
   "source": [
    "tokenizer = AutoTokenizer.from_pretrained('intfloat/multilingual-e5-large')\n",
    "model = AutoModel.from_pretrained('intfloat/multilingual-e5-large').to(device)"
   ]
  },
  {
   "cell_type": "code",
   "execution_count": 8,
   "id": "1bc22900-a955-4879-9603-64b1f76c2de0",
   "metadata": {},
   "outputs": [],
   "source": [
    "import wikipediaapi\n",
    "wiki_wiki = wikipediaapi.Wikipedia('MyProjectName (merlin@example.com)', 'ru')\n",
    "page = wiki_wiki.page('Россия')\n",
    "\n",
    "text = page.text"
   ]
  },
  {
   "cell_type": "code",
   "execution_count": 10,
   "id": "b4c85609-0eab-4ff5-a2a4-df85c7e7e318",
   "metadata": {},
   "outputs": [],
   "source": [
    "sentences = [token for token in text.split('\\n')]"
   ]
  },
  {
   "cell_type": "code",
   "execution_count": 11,
   "id": "138c2d68-c376-4637-b7fd-44ff9852e2ff",
   "metadata": {},
   "outputs": [],
   "source": [
    "tokens = []\n",
    "\n",
    "database = {}\n",
    "\n",
    "formatted_queries = [f'query: {sentence}' for sentence in sentences]"
   ]
  },
  {
   "cell_type": "code",
   "execution_count": 12,
   "id": "a75e1b5d-c124-4e48-a699-270d900c5dbe",
   "metadata": {},
   "outputs": [],
   "source": [
    "tokenized_sentences = tokenizer(\n",
    "    formatted_queries, max_length=512,\n",
    "    padding=True, truncation=True,\n",
    "    return_tensors='pt'\n",
    ")"
   ]
  },
  {
   "cell_type": "code",
   "execution_count": 13,
   "id": "580acd7a-998b-42a1-9e36-ac163861ecef",
   "metadata": {},
   "outputs": [],
   "source": [
    "tokenized_sentences['input_ids'] = tokenized_sentences['input_ids'].to(device)\n",
    "tokenized_sentences['attention_mask'] = tokenized_sentences['attention_mask'].to(device)"
   ]
  },
  {
   "cell_type": "code",
   "execution_count": 14,
   "id": "8b20dd3b-f424-47a8-9fda-a79ae156a80b",
   "metadata": {},
   "outputs": [],
   "source": [
    "from torch import Tensor\n",
    "\n",
    "def average_pool(last_hidden_states: Tensor,\n",
    "                 attention_mask: Tensor) -> Tensor:\n",
    "    last_hidden = last_hidden_states.masked_fill(~attention_mask[..., None].bool(), 0.0)\n",
    "    return last_hidden.sum(dim=1) / attention_mask.sum(dim=1)[..., None]"
   ]
  },
  {
   "cell_type": "code",
   "execution_count": 17,
   "id": "ef683733-36f1-430e-b0db-f261b964b2ea",
   "metadata": {},
   "outputs": [
    {
     "data": {
      "application/vnd.jupyter.widget-view+json": {
       "model_id": "fe58963848de4b29b4098c52371decb1",
       "version_major": 2,
       "version_minor": 0
      },
      "text/plain": [
       "  0%|          | 0/704 [00:00<?, ?it/s]"
      ]
     },
     "metadata": {},
     "output_type": "display_data"
    }
   ],
   "source": [
    "from tqdm.auto import tqdm\n",
    "\n",
    "model.eval()\n",
    "outputs = []\n",
    "\n",
    "with torch.no_grad():\n",
    "    for i in tqdm(range(len(formatted_queries))):\n",
    "        batch = {'input_ids': tokenized_sentences['input_ids'][i].unsqueeze(0), 'attention_mask': tokenized_sentences['attention_mask'][i].unsqueeze(0)}\n",
    "        out = model(**batch)\n",
    "        embeddings = average_pool(out.last_hidden_state, tokenized_sentences['attention_mask'][i].unsqueeze(0))\n",
    "        outputs.append(embeddings.squeeze(0))"
   ]
  },
  {
   "cell_type": "code",
   "execution_count": 18,
   "id": "8b1877ff-74d3-4483-86c5-edda6bce6155",
   "metadata": {},
   "outputs": [],
   "source": [
    "outputs = torch.stack(outputs).detach().cpu()"
   ]
  },
  {
   "cell_type": "code",
   "execution_count": 19,
   "id": "1d6573a8-3125-42ac-89f6-40b20441e4c4",
   "metadata": {},
   "outputs": [
    {
     "data": {
      "text/plain": [
       "torch.Size([704, 1024])"
      ]
     },
     "execution_count": 19,
     "metadata": {},
     "output_type": "execute_result"
    }
   ],
   "source": [
    "outputs.shape"
   ]
  },
  {
   "cell_type": "code",
   "execution_count": 20,
   "id": "7bc7b87b-fd9a-4732-aa8b-d65803d4c65c",
   "metadata": {},
   "outputs": [],
   "source": [
    "import torch.nn.functional as F\n",
    "\n",
    "embeddings = F.normalize(outputs, p=2, dim=1)"
   ]
  },
  {
   "cell_type": "code",
   "execution_count": 21,
   "id": "f97333a8-22d0-4281-b5c6-eb8731739481",
   "metadata": {},
   "outputs": [],
   "source": [
    "for i, sentence in enumerate(sentences):\n",
    "    database[sentence] = embeddings[i]"
   ]
  },
  {
   "cell_type": "code",
   "execution_count": 22,
   "id": "fa1758da-7814-4e58-8d5f-af6a00ad3382",
   "metadata": {},
   "outputs": [],
   "source": [
    "import pickle\n",
    "\n",
    "with open('embeddings_db.pkl', 'wb') as f:\n",
    "    pickle.dump(database, f)"
   ]
  },
  {
   "cell_type": "code",
   "execution_count": 31,
   "id": "0784c0ab-2d2d-4507-8d9f-9541b5ba7c63",
   "metadata": {},
   "outputs": [],
   "source": [
    "from typing import List\n",
    "\n",
    "\n",
    "def rank(sentence: str, k: int=5) -> List[str]:\n",
    "    model.eval()\n",
    "    device = torch.device('cuda') if torch.cuda.is_available() else torch.device('cpu')\n",
    "    sentence = f'query: {sentence}'\n",
    "    tokenized_sentences = tokenizer(\n",
    "        [sentence], max_length=512,\n",
    "        padding=True, truncation=True,\n",
    "        return_tensors='pt'\n",
    "    )\n",
    "    tokenized_sentences['input_ids'] = tokenized_sentences['input_ids'].to(device)\n",
    "    tokenized_sentences['attention_mask'] = tokenized_sentences['attention_mask'].to(device)\n",
    "    out = model(**tokenized_sentences)\n",
    "    embeddings = average_pool(out.last_hidden_state, tokenized_sentences['attention_mask'])\n",
    "    embeddings = embeddings.detach().cpu()\n",
    "    search_metrics = {}\n",
    "\n",
    "    for sentence in database.keys():\n",
    "        metric = F.cosine_similarity(embeddings, database[sentence])\n",
    "        search_metrics[sentence] = metric.item()\n",
    "\n",
    "    sorted_scores = sorted(search_metrics.items(), key=lambda x: x[1], reverse=True)\n",
    "    return [(sentence, score) for sentence, score in sorted_scores[:k]]"
   ]
  },
  {
   "cell_type": "code",
   "execution_count": 56,
   "id": "45f188de-23c2-4d64-b95a-810a392713d5",
   "metadata": {},
   "outputs": [
    {
     "data": {
      "text/plain": [
       "[('21 февраля 2022 года Россия признала независимость ДНР и ЛНР, а 24 февраля своим полномасштабным вторжением на Украину эскалировала российско-украинскую войну до самой масштабной войны в Европе со времён Второй мировой. Российское вторжение привело к введению новых международных санкций.',\n",
       "  0.8437685370445251),\n",
       " ('В октябре 2022 года Россия заявила об аннексии оккупированных ею частей Херсонской, Запорожской, Донецкой и Луганской областей Украины,.',\n",
       "  0.8307884335517883),\n",
       " ('В 2022 году после вторжения российских войск на Украину МОК призвал международные спортивные федерации либо перенести, либо отменить любые спортивные мероприятия, запланированные в России или Белоруссии. Также он рекомендовал разрешить белорусским и российским спортсменам и командам соревноваться только в нейтральном статусе. В результате российских спортсменов отстранили от ряда международных спортивных соревнований, в том числе и от Лиги чемпионов УЕФА.',\n",
       "  0.8239083886146545),\n",
       " ('«Война и мир» Сергея Бондарчука (1969 год);', 0.8095159530639648),\n",
       " ('Распад СССР', 0.8090333938598633)]"
      ]
     },
     "execution_count": 56,
     "metadata": {},
     "output_type": "execute_result"
    }
   ],
   "source": [
    "rank('расскажи про войну на украине 2022 году', 5)"
   ]
  },
  {
   "cell_type": "code",
   "execution_count": null,
   "id": "adf8cc26-0c57-43fd-834a-2ca38d96d196",
   "metadata": {},
   "outputs": [],
   "source": []
  }
 ],
 "metadata": {
  "kernelspec": {
   "display_name": "Python 3 (ipykernel)",
   "language": "python",
   "name": "python3"
  },
  "language_info": {
   "codemirror_mode": {
    "name": "ipython",
    "version": 3
   },
   "file_extension": ".py",
   "mimetype": "text/x-python",
   "name": "python",
   "nbconvert_exporter": "python",
   "pygments_lexer": "ipython3",
   "version": "3.10.12"
  }
 },
 "nbformat": 4,
 "nbformat_minor": 5
}
