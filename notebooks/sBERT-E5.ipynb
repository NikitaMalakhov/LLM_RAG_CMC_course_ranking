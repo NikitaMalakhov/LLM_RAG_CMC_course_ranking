{
 "cells": [
  {
   "cell_type": "code",
   "execution_count": 2,
   "id": "c0265a92-457e-47c1-aef3-a41b48fd5dda",
   "metadata": {},
   "outputs": [],
   "source": [
    "%%capture\n",
    "%pip install -q transformers datasets nltk spacy seaborn matplotlib Wikipedia-API"
   ]
  },
  {
   "cell_type": "code",
   "execution_count": 2,
   "id": "2c662612-0337-4b2c-a506-0fb5b2a28e18",
   "metadata": {},
   "outputs": [],
   "source": [
    "from transformers import AutoModel, AutoTokenizer\n",
    "import torch"
   ]
  },
  {
   "cell_type": "code",
   "execution_count": 4,
   "id": "99f0020c-aa3e-4d1e-a6a5-36eacfae749d",
   "metadata": {},
   "outputs": [
    {
     "data": {
      "text/plain": [
       "device(type='cuda')"
      ]
     },
     "execution_count": 4,
     "metadata": {},
     "output_type": "execute_result"
    }
   ],
   "source": [
    "device = torch.device('cuda' if torch.cuda.is_available() else 'cpu')\n",
    "device"
   ]
  },
  {
   "cell_type": "code",
   "execution_count": 6,
   "id": "2cf1d060",
   "metadata": {},
   "outputs": [
    {
     "name": "stdout",
     "output_type": "stream",
     "text": [
      "Split list 0: [0, 1, 2, 3, 4, 5, 6, 7, 8, 9]\n",
      "Split list 1: [10, 11, 12, 13, 14, 15, 16, 17, 18, 19]\n",
      "Split list 2: [20, 21, 22]\n"
     ]
    }
   ],
   "source": [
    "def split_list(input_list, chunk_size):\n",
    "    result = []\n",
    "    for i in range(0, len(input_list), chunk_size):\n",
    "        result.append(input_list[i:i + chunk_size])\n",
    "    return result\n",
    "\n",
    "input_list = list(range(23))  # A list with 23 elements\n",
    "chunk_size = 10  # Set the chunk size\n",
    "output_lists = split_list(input_list, chunk_size)\n",
    "\n",
    "for i, lst in enumerate(output_lists):\n",
    "    print(f\"Split list {i}: {lst}\")"
   ]
  },
  {
   "cell_type": "code",
   "execution_count": 5,
   "id": "5c2fffb2-eb40-4069-9d36-8a15599945d1",
   "metadata": {},
   "outputs": [],
   "source": [
    "tokenizer = AutoTokenizer.from_pretrained('intfloat/multilingual-e5-large')\n",
    "model = AutoModel.from_pretrained('intfloat/multilingual-e5-large').to(device)"
   ]
  },
  {
   "cell_type": "code",
   "execution_count": 7,
   "id": "1bc22900-a955-4879-9603-64b1f76c2de0",
   "metadata": {},
   "outputs": [],
   "source": [
    "import wikipediaapi\n",
    "wiki_wiki = wikipediaapi.Wikipedia('MyProjectName (merlin@example.com)', 'ru')\n",
    "page = wiki_wiki.page('Россия')\n",
    "\n",
    "text = page.text"
   ]
  },
  {
   "cell_type": "code",
   "execution_count": 8,
   "id": "cf5abb80",
   "metadata": {},
   "outputs": [],
   "source": [
    "from nltk import word_tokenize"
   ]
  },
  {
   "cell_type": "code",
   "execution_count": 50,
   "id": "b4c85609-0eab-4ff5-a2a4-df85c7e7e318",
   "metadata": {},
   "outputs": [],
   "source": [
    "sentences = [token for token in text.split('\\n') if len(word_tokenize(token)) > 7]"
   ]
  },
  {
   "cell_type": "code",
   "execution_count": 51,
   "id": "138c2d68-c376-4637-b7fd-44ff9852e2ff",
   "metadata": {},
   "outputs": [],
   "source": [
    "tokens = []\n",
    "\n",
    "database = {}\n",
    "\n",
    "formatted_queries = [f'query: {sentence}' for sentence in sentences]"
   ]
  },
  {
   "cell_type": "code",
   "execution_count": 52,
   "id": "a75e1b5d-c124-4e48-a699-270d900c5dbe",
   "metadata": {},
   "outputs": [],
   "source": [
    "tokenized_sentences = tokenizer(\n",
    "    formatted_queries, max_length=512,\n",
    "    padding=True, truncation=True,\n",
    "    return_tensors='pt'\n",
    ")"
   ]
  },
  {
   "cell_type": "code",
   "execution_count": 53,
   "id": "580acd7a-998b-42a1-9e36-ac163861ecef",
   "metadata": {},
   "outputs": [],
   "source": [
    "tokenized_sentences['input_ids'] = tokenized_sentences['input_ids'].to(device)\n",
    "tokenized_sentences['attention_mask'] = tokenized_sentences['attention_mask'].to(device)"
   ]
  },
  {
   "cell_type": "code",
   "execution_count": 54,
   "id": "8b20dd3b-f424-47a8-9fda-a79ae156a80b",
   "metadata": {},
   "outputs": [],
   "source": [
    "from torch import Tensor\n",
    "\n",
    "def average_pool(last_hidden_states: Tensor,\n",
    "                 attention_mask: Tensor) -> Tensor:\n",
    "    last_hidden = last_hidden_states.masked_fill(~attention_mask[..., None].bool(), 0.0)\n",
    "    return last_hidden.sum(dim=1) / attention_mask.sum(dim=1)[..., None]"
   ]
  },
  {
   "cell_type": "code",
   "execution_count": 55,
   "id": "48fe82e8",
   "metadata": {},
   "outputs": [],
   "source": [
    "def batch_split(input_list, batch_size=8):\n",
    "    result = []\n",
    "    for i in range(0, len(input_list), (batch_size)):\n",
    "        result.append(input_list[i:i + batch_size])\n",
    "    return result"
   ]
  },
  {
   "cell_type": "code",
   "execution_count": 56,
   "id": "ef683733-36f1-430e-b0db-f261b964b2ea",
   "metadata": {},
   "outputs": [
    {
     "data": {
      "application/vnd.jupyter.widget-view+json": {
       "model_id": "e576737bccd44cf79487584359dde090",
       "version_major": 2,
       "version_minor": 0
      },
      "text/plain": [
       "  0%|          | 0/55 [00:00<?, ?it/s]"
      ]
     },
     "metadata": {},
     "output_type": "display_data"
    }
   ],
   "source": [
    "from tqdm.auto import tqdm\n",
    "\n",
    "model.eval()\n",
    "outputs = []\n",
    "\n",
    "with torch.no_grad():\n",
    "    batches = batch_split(range(len(formatted_queries)), batch_size=8)\n",
    "    for i in tqdm(batches):\n",
    "        batch = {'input_ids': tokenized_sentences['input_ids'][i[0]:i[-1] + 1], 'attention_mask': tokenized_sentences['attention_mask'][i[0]:i[-1] + 1]}\n",
    "        out = model(**batch)\n",
    "        embeddings = average_pool(out.last_hidden_state, tokenized_sentences['attention_mask'][i[0]:i[-1] + 1])\n",
    "        outputs.append(embeddings.squeeze(0))"
   ]
  },
  {
   "cell_type": "code",
   "execution_count": 57,
   "id": "8b1877ff-74d3-4483-86c5-edda6bce6155",
   "metadata": {},
   "outputs": [],
   "source": [
    "outputs = torch.cat(outputs, dim=0).detach().cpu()"
   ]
  },
  {
   "cell_type": "code",
   "execution_count": 58,
   "id": "7bc7b87b-fd9a-4732-aa8b-d65803d4c65c",
   "metadata": {},
   "outputs": [],
   "source": [
    "import torch.nn.functional as F\n",
    "\n",
    "embeddings = F.normalize(outputs, p=2, dim=1)"
   ]
  },
  {
   "cell_type": "code",
   "execution_count": 59,
   "id": "5f579592",
   "metadata": {},
   "outputs": [],
   "source": [
    "assert embeddings.shape[0] == len(sentences)"
   ]
  },
  {
   "cell_type": "code",
   "execution_count": 60,
   "id": "f97333a8-22d0-4281-b5c6-eb8731739481",
   "metadata": {},
   "outputs": [],
   "source": [
    "for i, sentence in enumerate(sentences):\n",
    "    database[sentence] = embeddings[i]"
   ]
  },
  {
   "cell_type": "code",
   "execution_count": 61,
   "id": "fa1758da-7814-4e58-8d5f-af6a00ad3382",
   "metadata": {},
   "outputs": [],
   "source": [
    "import pickle\n",
    "\n",
    "with open('embeddings_db.pkl', 'wb') as f:\n",
    "    pickle.dump(database, f)"
   ]
  },
  {
   "cell_type": "code",
   "execution_count": 62,
   "id": "0784c0ab-2d2d-4507-8d9f-9541b5ba7c63",
   "metadata": {},
   "outputs": [],
   "source": [
    "from typing import List\n",
    "\n",
    "\n",
    "def rank(sentence: str, k: int=5) -> List[str]:\n",
    "    model.eval()\n",
    "    device = torch.device('cuda') if torch.cuda.is_available() else torch.device('cpu')\n",
    "    sentence = f'query: {sentence}'\n",
    "    tokenized_sentences = tokenizer(\n",
    "        [sentence], max_length=512,\n",
    "        padding=True, truncation=True,\n",
    "        return_tensors='pt'\n",
    "    )\n",
    "    tokenized_sentences['input_ids'] = tokenized_sentences['input_ids'].to(device)\n",
    "    tokenized_sentences['attention_mask'] = tokenized_sentences['attention_mask'].to(device)\n",
    "    out = model(**tokenized_sentences)\n",
    "    embeddings = average_pool(out.last_hidden_state, tokenized_sentences['attention_mask'])\n",
    "    embeddings = embeddings.detach().cpu()\n",
    "    search_metrics = {}\n",
    "\n",
    "    for sentence in database.keys():\n",
    "        metric = F.cosine_similarity(embeddings, database[sentence])\n",
    "        search_metrics[sentence] = metric.item()\n",
    "\n",
    "    sorted_scores = sorted(search_metrics.items(), key=lambda x: x[1], reverse=True)\n",
    "    return [(sentence, score) for sentence, score in sorted_scores[:k]]"
   ]
  },
  {
   "cell_type": "code",
   "execution_count": 71,
   "id": "45f188de-23c2-4d64-b95a-810a392713d5",
   "metadata": {},
   "outputs": [
    {
     "data": {
      "text/plain": [
       "[(' — от 2 000 000 до 6 000 000 чел.', 0.8186419606208801),\n",
       " ('Президент избирается сроком на шесть лет тайным голосованием на всеобщих прямых выборах, один и тот же человек не может занимать президентский пост более двух сроков. Конституционные нормы, предусматривающие шестилетний срок полномочий президента, введены в 2008 году, ранее глава государства избирался раз в четыре года.',\n",
       "  0.8157840371131897),\n",
       " (' — от 1 000 000 до 2 000 000 чел.', 0.8157546520233154),\n",
       " ('Федеральная служба войск национальной гвардии Российской Федерации;',\n",
       "  0.8150832056999207),\n",
       " (' — от 600 000 до 1 000 000 чел.', 0.8130089640617371)]"
      ]
     },
     "execution_count": 71,
     "metadata": {},
     "output_type": "execute_result"
    }
   ],
   "source": [
    "rank('Выборы 2018 года', 5)"
   ]
  },
  {
   "cell_type": "code",
   "execution_count": 72,
   "id": "1575847c",
   "metadata": {},
   "outputs": [
    {
     "data": {
      "text/plain": [
       "[('19—21 августа 1991 года в Москве произошёл «Августовский путч», вызвавший противостояние властей СССР и РСФСР, что привело к массовым демонстрациям у Белого дома в поддержку президента РСФСР Б. Н. Ельцина. Попытку госпереворота организовали деятели партии, КГБ и военные, пытавшиеся предотвратить распад СССР. Непродуманный и плохо выполненный заговор положил конец КПСС и только ускорил развал государства. 8 декабря 1991 года были подписаны Беловежские соглашения о прекращении существования СССР и создании СНГ.',\n",
       "  0.8214746117591858),\n",
       " ('8 августа 2008 года началась война в Грузии, после которого Россия официально признала Абхазию и Южную Осетию в качестве независимых государств.',\n",
       "  0.7753043174743652),\n",
       " ('Столица — Петроград, с 12 марта 1918 года — Москва.', 0.7751259803771973),\n",
       " ('1 мая — Праздник весны и труда;', 0.7730187177658081),\n",
       " ('В первой половине 1990-х годов большое количество предприятий было приватизировано путём ваучерной приватизации, а также через залоговые аукционы. Тем не менее, этого не было достаточно, чтобы покрыть огромный внешний государственный долг. 17 августа 1998 года правительство России объявило о дефолте.',\n",
       "  0.772528886795044)]"
      ]
     },
     "execution_count": 72,
     "metadata": {},
     "output_type": "execute_result"
    }
   ],
   "source": [
    "rank('Августовский путч')"
   ]
  },
  {
   "cell_type": "code",
   "execution_count": 74,
   "id": "5436c754",
   "metadata": {},
   "outputs": [
    {
     "data": {
      "text/plain": [
       "[('31 декабря 1999 года Борис Ельцин объявил об отставке с поста президента, назначив исполняющим обязанности президента председателя правительства России В. В. Путина.',\n",
       "  0.8573992252349854),\n",
       " ('Президент может быть отрешён от должности Советом Федерации при условии выдвижения Государственной думой обвинения в государственной измене или совершения иного тяжкого преступления и наличия положительных заключений Верховного и Конституционного судов.',\n",
       "  0.813132643699646),\n",
       " ('Главой государства является президент Российской Федерации, в настоящее время — Владимир Владимирович Путин. В исполнении обязанностей главы государства президенту оказывает содействие председатель Правительства Российской Федерации, в настоящее время им является Михаил Владимирович Мишустин. Председатель Правительства России занимает пост президента в случае смерти или отставки последнего.',\n",
       "  0.8018243908882141),\n",
       " ('Президент обладает рядом важнейших полномочий: руководит внешней политикой страны, является Верховным главнокомандующим Вооружёнными силами, назначает с согласия Государственной думы председателя Правительства, принимает решение об отставке правительства. По предложению председателя Правительства назначает на должности заместителей председателя Правительства и федеральных министров, а также освобождает их от должности. Президент возглавляет Совет безопасности, назначает и освобождает от должности командование Вооружёнными силами. Обладает правом предлагать на рассмотрение Государственной думы кандидатуры на должность председателя Центрального банка (не входящего в состав правительства). В случае агрессии или непосредственной угрозы агрессии президент имеет право объявить военное положение на всей территории страны или на отдельных территориях, но при этом обязан незамедлительно известить о своём решении Федеральное собрание. Обладает правом издания указов, обязательных для исполнения на всей территории России (указы не должны противоречить федеральным законам). Обладает также рядом других полномочий.',\n",
       "  0.801002562046051),\n",
       " ('Федеральная служба войск национальной гвардии Российской Федерации;',\n",
       "  0.799091100692749)]"
      ]
     },
     "execution_count": 74,
     "metadata": {},
     "output_type": "execute_result"
    }
   ],
   "source": [
    "rank('отставка Ельцина')"
   ]
  },
  {
   "cell_type": "code",
   "execution_count": null,
   "id": "1624063c",
   "metadata": {},
   "outputs": [],
   "source": []
  }
 ],
 "metadata": {
  "kernelspec": {
   "display_name": "Python 3 (ipykernel)",
   "language": "python",
   "name": "python3"
  },
  "language_info": {
   "codemirror_mode": {
    "name": "ipython",
    "version": 3
   },
   "file_extension": ".py",
   "mimetype": "text/x-python",
   "name": "python",
   "nbconvert_exporter": "python",
   "pygments_lexer": "ipython3",
   "version": "3.10.12"
  }
 },
 "nbformat": 4,
 "nbformat_minor": 5
}
